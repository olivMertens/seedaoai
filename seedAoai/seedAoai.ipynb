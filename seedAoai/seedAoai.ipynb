{
 "cells": [
  {
   "cell_type": "markdown",
   "metadata": {},
   "source": [
    "# Seed AOAI Model ( Preview )\n"
   ]
  },
  {
   "cell_type": "markdown",
   "metadata": {},
   "source": [
    "> Refer to this link for the latest preview api version \n",
    "https://github.com/Azure/azure-rest-api-specs/tree/main/specification/cognitiveservices/data-plane/AzureOpenAI/inference/preview\n",
    "> Refer to this link for last models available and regions\n",
    "https://aka.ms/AzureOpenAiModels"
   ]
  },
  {
   "cell_type": "code",
   "execution_count": 2,
   "metadata": {},
   "outputs": [
    {
     "data": {
      "text/plain": [
       "True"
      ]
     },
     "execution_count": 2,
     "metadata": {},
     "output_type": "execute_result"
    }
   ],
   "source": [
    "import os\n",
    "from openai import AzureOpenAI\n",
    "from dotenv import load_dotenv\n",
    "\n",
    "load_dotenv('../secrets.env')"
   ]
  },
  {
   "cell_type": "markdown",
   "metadata": {},
   "source": [
    "> Loading from the secrets.env \n",
    "> Choose only one Cell depending of which models you want to test"
   ]
  },
  {
   "cell_type": "code",
   "execution_count": 3,
   "metadata": {},
   "outputs": [
    {
     "name": "stdout",
     "output_type": "stream",
     "text": [
      "https://aoainorthcentraltest.openai.azure.com/\n"
     ]
    }
   ],
   "source": [
    "## For models 0125 access to this region North Central Us\n",
    "azure_endpoint = os.getenv(\"AZURE_OPENAI_ENDPOINTNC\")\n",
    "api_key= os.getenv(\"AZURE_OPENAI_API_KEYNC\")\n",
    "\n",
    "print(azure_endpoint)"
   ]
  },
  {
   "cell_type": "code",
   "execution_count": 11,
   "metadata": {},
   "outputs": [
    {
     "name": "stdout",
     "output_type": "stream",
     "text": [
      "https://aoaifrancecentral.openai.azure.com/\n"
     ]
    }
   ],
   "source": [
    "## For models 1106 preview to this region France Central\n",
    "azure_endpoint = os.getenv(\"AZURE_OPENAI_ENDPOINTFC\")\n",
    "api_key=os.getenv(\"AZURE_OPENAI_API_KEYFC\")\n",
    "print(azure_endpoint)"
   ]
  },
  {
   "cell_type": "code",
   "execution_count": 14,
   "metadata": {},
   "outputs": [],
   "source": [
    "model = \"gpt-35-turbo-1106\" ## Depend of the region chosen indicate the correct name model \n",
    "## The name of the model deployed must be available for seed are for my ( the name i gave ) gpt-4-0125-preview / gpt-35-turbo-0125 in NorthCentral and France central   gpt-4-1106-preview  / gpt-35-turbo-1106\n",
    "api_version = \"2024-03-01-preview\""
   ]
  },
  {
   "cell_type": "markdown",
   "metadata": {},
   "source": [
    "> We are working to make 3 samples without seed context"
   ]
  },
  {
   "cell_type": "code",
   "execution_count": 5,
   "metadata": {},
   "outputs": [
    {
     "name": "stdout",
     "output_type": "stream",
     "text": [
      "https://aoainorthcentraltest.openai.azure.com/\n",
      "Story Version 1\n",
      "---\n",
      "Once upon a time, in the vast, empty nothingness, there was a moment that changed everything. This moment, so tiny and yet so colossal, was the beginning of the universe as we know it. It is a story not just of space and time, but of the very fabric of reality being woven into existence. This tale, my friend, is the story of the Big Bang.\n",
      "\n",
      "In the beginning, there was nothing—or so it seemed. But within this nothingness, there existed a point, an infinitely small and infinitely dense singularity. This singularity contained all the energy that would ever exist, all the stars, all the galaxies, everything that would ever be, packed into an unimaginable point of pure potential.\n",
      "\n",
      "Then, for reasons that still puzzle the greatest minds, this singularity began to expand. This was not an explosion, but an expansion, a moment of creation that gave birth to time and space itself. In the tiniest fraction of a second, the universe\n",
      "---\n",
      "\n",
      "Story Version 2\n",
      "---\n",
      "Once upon a time, in the vast, silent expanse of nothingness, there was a moment that would forever alter the course of existence. This moment, a mere speck in the tapestry of infinity, was the beginning of everything we know, everything we see, and everything we are yet to discover. This is the story of how the universe began.\n",
      "\n",
      "In the beginning, there was no light, no darkness, just an unfathomable void. This void, pregnant with infinite potential, held within it the seeds of the cosmos. Then, in an instant too fleeting to measure, something miraculous happened. A singular event, known as the Big Bang, occurred approximately 13.8 billion years ago.\n",
      "\n",
      "From this point, smaller than a particle, erupted all the energy that would ever exist in the universe. This energy was unimaginably hot and dense. In the first moments, the fundamental forces of nature—gravity, electromagnetism, and the strong and weak nuclear forces—were unified\n",
      "---\n",
      "\n",
      "Story Version 3\n",
      "---\n",
      "In the beginning, there was nothing but a vast emptiness, a silent void waiting to be filled. Then, in an instant, the universe burst into existence in an event we now call the Big Bang. This wasn't an explosion in the traditional sense, but rather an expansion of space itself, spreading outwards from an infinitely small, infinitely hot, and infinitely dense point. This singular event occurred approximately 13.8 billion years ago, marking the dawn of time and space as we know it.\n",
      "\n",
      "In the first moments after the Big Bang, the universe was unimaginably hot and dense. Energy coalesced into particles, and particles merged to form the first protons and neutrons. These, in turn, began to combine into the simplest elements, hydrogen and helium, through a process known as nucleosynthesis.\n",
      "\n",
      "As the universe expanded, it cooled, allowing these primordial gases to clump together under the force of gravity. These clouds of gas grew larger and denser, eventually collapsing\n",
      "---\n",
      "\n"
     ]
    }
   ],
   "source": [
    "## Verify the correct endpoint\n",
    "\n",
    "print(azure_endpoint)\n",
    "\n",
    "client = AzureOpenAI(\n",
    "  azure_endpoint = azure_endpoint, \n",
    "  api_key= api_key,  \n",
    "  api_version= api_version\n",
    ")\n",
    "\n",
    "for i in range(3):\n",
    "  print(f'Story Version {i + 1}\\n---')\n",
    "    \n",
    "  response = client.chat.completions.create(\n",
    "    model= model, # Model = should match the deployment name you chose for your 1106-preview model deployment\n",
    "    temperature=0.7,\n",
    "    max_tokens =200, \n",
    "    messages=[\n",
    "      {\"role\": \"system\", \"content\": \"You are a helpful assistant.\"},\n",
    "      {\"role\": \"user\", \"content\": \"Tell me a story about how the universe began?\"}\n",
    "    ]\n",
    "  )\n",
    "  \n",
    "  print(response.choices[0].message.content)\n",
    "  print(\"---\\n\")\n",
    "  \n",
    "  del response"
   ]
  },
  {
   "cell_type": "markdown",
   "metadata": {},
   "source": [
    "## Limits\n",
    "The parameters temperature, max_tokens must be identical and the system fingerprint have to be verified for trying to have a deterministic retrieving"
   ]
  },
  {
   "cell_type": "code",
   "execution_count": 15,
   "metadata": {},
   "outputs": [
    {
     "name": "stdout",
     "output_type": "stream",
     "text": [
      "https://aoaifrancecentral.openai.azure.com/\n",
      "Story Version 1\n",
      "---\n",
      "In the beginning, there was nothing but a vast, empty void. Then, in a sudden burst of energy, the universe came into being. This event, known as the Big Bang, marked the birth of space, time, and all the matter and energy that make up the cosmos.\n",
      "\n",
      "In the moments that followed, the universe expanded and continued to do so, creating galaxies, stars, and planets. Over billions of years, these celestial bodies formed and evolved, leading to the creation of the diverse and awe-inspiring universe that we know today.\n",
      "\n",
      "Throughout this epic journey, countless wonders emerged, from the formation of galaxies and the birth of stars to the development of life on Earth. The universe is a tapestry of beauty, complexity, and mystery, and its story continues to unfold as scientists and astronomers explore its vast expanse.\n",
      "\n",
      "As we gaze up at the night sky and ponder the origins of the universe, we are reminded of the incredible journey that has brought us to this point and the infinite\n",
      "Output created :1712073472 with the system_fingerprint :fp_68a7d165bf\n",
      "---\n",
      "\n",
      "Story Version 2\n",
      "---\n",
      "In the beginning, there was nothing but a vast, empty void. Then, in a sudden burst of energy, the universe came into being. This event, known as the Big Bang, marked the birth of time, space, and all of existence.\n",
      "\n",
      "As the universe expanded and cooled, subatomic particles formed and eventually coalesced into atoms. Over billions of years, these atoms joined together to create stars, galaxies, and planets. On one of these planets, Earth, the conditions were just right for life to emerge.\n",
      "\n",
      "Life flourished and evolved into a breathtaking diversity of forms, from tiny microorganisms to towering redwoods and majestic blue whales. Humans, with their unique capacity for curiosity and creativity, emerged and began to ponder the mysteries of the universe.\n",
      "\n",
      "Through the study of science, humans have gained insight into the origins and workings of the cosmos. They have discovered the fundamental forces that govern the universe, the intricate dance of particles and waves, and the unfathomable expanse of space\n",
      "Output created :1712073476 with the system_fingerprint :fp_68a7d165bf\n",
      "---\n",
      "\n",
      "Story Version 3\n",
      "---\n",
      "In the beginning, there was nothing but a vast, empty void. Then, in a sudden burst of energy, the universe came into being. This event, known as the Big Bang, marked the birth of time, space, and all of the matter and energy that would eventually form the stars, galaxies, and planets.\n",
      "\n",
      "As the universe continued to expand and evolve, the first elements such as hydrogen and helium were formed, eventually leading to the creation of the first stars. These massive celestial bodies ignited and burned brightly, forging the heavier elements like carbon, oxygen, and iron through nuclear fusion within their cores.\n",
      "\n",
      "Over billions of years, these stars lived out their lifespans, some ending in explosive supernova events that scattered their newly formed elements into space. From the remnants of these ancient stars, new generations of stars and planets formed, each one contributing to the rich tapestry of the cosmos.\n",
      "\n",
      "On one of these planets, Earth, the conditions were just right for life to emerge. Through a\n",
      "Output created :1712073478 with the system_fingerprint :fp_68a7d165bf\n",
      "---\n",
      "\n"
     ]
    }
   ],
   "source": [
    "## Verify the correct endpoint\n",
    "\n",
    "print(azure_endpoint)\n",
    "\n",
    "client = AzureOpenAI(\n",
    "  azure_endpoint = azure_endpoint, \n",
    "  api_key= api_key,  \n",
    "  api_version= api_version\n",
    ")\n",
    "\n",
    "for i in range(3):\n",
    "  print(f'Story Version {i + 1}\\n---')\n",
    "    \n",
    "  response = client.chat.completions.create(\n",
    "    model= model, # Model = should match the deployment name you chose for your 1106-preview model deployment\n",
    "    temperature=0.7,\n",
    "    seed=42, #In this example we add a parameter seed to trying to retrieve the same output in the second and third loop\n",
    "    max_tokens =200, \n",
    "    messages=[\n",
    "      {\"role\": \"system\", \"content\": \"You are a helpful assistant.\"},\n",
    "      {\"role\": \"user\", \"content\": \"Tell me a story about how the universe began?\"}\n",
    "    ]\n",
    "  )\n",
    "  print(response.choices[0].message.content)\n",
    "  print(f'Output created :{response.created} with the system_fingerprint :{response.system_fingerprint}')\n",
    "  print(\"---\\n\")\n",
    "  del response"
   ]
  }
 ],
 "metadata": {
  "kernelspec": {
   "display_name": ".venv",
   "language": "python",
   "name": "python3"
  },
  "language_info": {
   "codemirror_mode": {
    "name": "ipython",
    "version": 3
   },
   "file_extension": ".py",
   "mimetype": "text/x-python",
   "name": "python",
   "nbconvert_exporter": "python",
   "pygments_lexer": "ipython3",
   "version": "3.11.8"
  }
 },
 "nbformat": 4,
 "nbformat_minor": 2
}
